{
  "nbformat": 4,
  "nbformat_minor": 0,
  "metadata": {
    "colab": {
      "provenance": []
    },
    "kernelspec": {
      "name": "python3",
      "display_name": "Python 3"
    },
    "language_info": {
      "name": "python"
    }
  },
  "cells": [
    {
      "cell_type": "code",
      "execution_count": 1,
      "metadata": {
        "id": "j-mWCPUWEWaz"
      },
      "outputs": [],
      "source": [
        "import tensorflow as tf\n",
        "import numpy as np\n",
        "import matplotlib.pyplot as plt\n",
        "from sklearn.model_selection import train_test_split\n",
        "from sklearn.preprocessing import LabelEncoder\n",
        "from tensorflow.keras.preprocessing.text import Tokenizer\n",
        "from tensorflow.keras.preprocessing.sequence import pad_sequences\n",
        "\n"
      ]
    },
    {
      "cell_type": "code",
      "source": [
        "data = {\n",
        "    \"nom\": [\n",
        "        \"Smartphone Samsung Galaxy A14\", \"Chaussures Nike Air Max\",\n",
        "        \"Machine à café Philips\", \"Livre Python pour Débutants\",\n",
        "        \"Montre connectée Fitbit\"\n",
        "    ],\n",
        "    \"type\": [\"Électronique\", \"Mode\", \"Maison \",\" Cuisine\", \"Livres\", \"\"],\n",
        "    \"description\": [\n",
        "        \"Téléphone avec grand écran 5G\", \"Chaussures confortables pour courir\",\n",
        "        \"Machine automatique avec moulin\", \"Guide complet pour apprendre Python\",\n",
        "        \"Montre connectée pour suivre votre activité\"\n",
        "    ],\n",
        "    \"prix\": [250, 120, 300, 20, 150],\n",
        "}\n",
        "\n"
      ],
      "metadata": {
        "id": "hHH3yasdFDhC"
      },
      "execution_count": 21,
      "outputs": []
    },
    {
      "cell_type": "code",
      "source": [
        "# convertir les données en DataFrame\n",
        "import pandas as pd\n",
        "df = pd.DataFrame(data)\n",
        "\n",
        "# Encode labels\n",
        "label_encoder = LabelEncoder()\n",
        "df[\"type_encoded\"] = label_encoder.fit_transform(df[\"type\"])\n",
        "categories = label_encoder.classes_\n",
        "\n",
        "print(categories)\n",
        "\n"
      ],
      "metadata": {
        "colab": {
          "base_uri": "https://localhost:8080/"
        },
        "id": "inbgMMKfFIMh",
        "outputId": "0930b787-ea2a-4954-c184-c33b38eebb8a"
      },
      "execution_count": 22,
      "outputs": [
        {
          "output_type": "stream",
          "name": "stdout",
          "text": [
            "[' Cuisine' 'Livres' 'Maison ' 'Mode' 'Électronique']\n"
          ]
        }
      ]
    },
    {
      "cell_type": "code",
      "source": [
        "# Tokenize descriptions\n",
        "tokenizer = Tokenizer(num_words=1000, oov_token=\"<OOV>\")\n",
        "tokenizer.fit_on_texts(df[\"description\"])\n",
        "sequences = tokenizer.texts_to_sequences(df[\"description\"])\n",
        "padded_sequences = pad_sequences(sequences, maxlen=10, padding='post')\n",
        "print(padded_sequences)"
      ],
      "metadata": {
        "colab": {
          "base_uri": "https://localhost:8080/"
        },
        "id": "6mcRNFUQFbaq",
        "outputId": "6177f7a9-701e-40e6-8616-b201e06648e0"
      },
      "execution_count": 23,
      "outputs": [
        {
          "output_type": "stream",
          "name": "stdout",
          "text": [
            "[[ 4  3  5  6  7  0  0  0  0  0]\n",
            " [ 8  9  2 10  0  0  0  0  0  0]\n",
            " [11 12  3 13  0  0  0  0  0  0]\n",
            " [14 15  2 16 17  0  0  0  0  0]\n",
            " [18 19  2 20 21 22  0  0  0  0]]\n"
          ]
        }
      ]
    },
    {
      "cell_type": "code",
      "source": [
        "# Normalize prices\n",
        "df[\"prix\"] = df[\"prix\"] / df[\"prix\"].max()\n",
        "print(df[\"prix\"])"
      ],
      "metadata": {
        "colab": {
          "base_uri": "https://localhost:8080/"
        },
        "id": "eJGbjQ87FdsS",
        "outputId": "e03e89f2-f4f0-494b-9a61-88451e66e6b3"
      },
      "execution_count": 24,
      "outputs": [
        {
          "output_type": "stream",
          "name": "stdout",
          "text": [
            "0    0.833333\n",
            "1    0.400000\n",
            "2    1.000000\n",
            "3    0.066667\n",
            "4    0.500000\n",
            "Name: prix, dtype: float64\n"
          ]
        }
      ]
    },
    {
      "cell_type": "code",
      "source": [
        "\n",
        "X = np.hstack((padded_sequences, df[\"prix\"].values.reshape(-1, 1)))\n",
        "y = df[\"type_encoded\"]\n",
        "\n",
        "X_train, X_test, y_train, y_test = train_test_split(X, y, test_size=0.2, random_state=42)\n",
        "\n",
        "model = tf.keras.Sequential([\n",
        "    tf.keras.layers.Embedding(input_dim=1000, output_dim=16, input_length=10),\n",
        "    tf.keras.layers.GlobalAveragePooling1D(),\n",
        "    tf.keras.layers.Dense(16, activation='relu'),\n",
        "    tf.keras.layers.Dense(len(categories), activation='softmax')\n",
        "])\n",
        "\n",
        "# Compilation\n",
        "model.compile(optimizer='adam',\n",
        "              loss='sparse_categorical_crossentropy',\n",
        "              metrics=['accuracy'])"
      ],
      "metadata": {
        "colab": {
          "base_uri": "https://localhost:8080/"
        },
        "id": "8rU--WaHFf7a",
        "outputId": "c52ccc9f-c2da-46ec-ebde-76ef8d4e68f3"
      },
      "execution_count": 11,
      "outputs": [
        {
          "output_type": "stream",
          "name": "stderr",
          "text": [
            "/usr/local/lib/python3.10/dist-packages/keras/src/layers/core/embedding.py:90: UserWarning: Argument `input_length` is deprecated. Just remove it.\n",
            "  warnings.warn(\n"
          ]
        }
      ]
    },
    {
      "cell_type": "code",
      "source": [
        "# Entraînement et Evaluation\n",
        "history = model.fit(X_train, y_train, epochs=10, validation_data=(X_test, y_test))\n",
        "\n",
        "test_loss, test_acc = model.evaluate(X_test, y_test, verbose=2)\n",
        "print(\"\\nTest accuracy:\", test_acc)\n",
        "new_product = {\n",
        "    \"description\": [\"le bâtiment est tellement jolie que quand tu entre à l'intérieur tu n'as plus envie de ressortir.\"],\n",
        "    \"prix\": [125]\n",
        "}"
      ],
      "metadata": {
        "collapsed": true,
        "colab": {
          "base_uri": "https://localhost:8080/"
        },
        "id": "Pp_cJ9GaGl-Z",
        "outputId": "dd2f3208-9783-4000-d5ec-093c7cb28323"
      },
      "execution_count": 25,
      "outputs": [
        {
          "output_type": "stream",
          "name": "stdout",
          "text": [
            "Epoch 1/10\n",
            "\u001b[1m1/1\u001b[0m \u001b[32m━━━━━━━━━━━━━━━━━━━━\u001b[0m\u001b[37m\u001b[0m \u001b[1m0s\u001b[0m 100ms/step - accuracy: 0.5000 - loss: 1.1476 - val_accuracy: 0.0000e+00 - val_loss: 1.7996\n",
            "Epoch 2/10\n",
            "\u001b[1m1/1\u001b[0m \u001b[32m━━━━━━━━━━━━━━━━━━━━\u001b[0m\u001b[37m\u001b[0m \u001b[1m0s\u001b[0m 92ms/step - accuracy: 0.5000 - loss: 1.1410 - val_accuracy: 0.0000e+00 - val_loss: 1.8148\n",
            "Epoch 3/10\n",
            "\u001b[1m1/1\u001b[0m \u001b[32m━━━━━━━━━━━━━━━━━━━━\u001b[0m\u001b[37m\u001b[0m \u001b[1m0s\u001b[0m 67ms/step - accuracy: 0.5000 - loss: 1.1344 - val_accuracy: 0.0000e+00 - val_loss: 1.8304\n",
            "Epoch 4/10\n",
            "\u001b[1m1/1\u001b[0m \u001b[32m━━━━━━━━━━━━━━━━━━━━\u001b[0m\u001b[37m\u001b[0m \u001b[1m0s\u001b[0m 56ms/step - accuracy: 0.5000 - loss: 1.1276 - val_accuracy: 0.0000e+00 - val_loss: 1.8464\n",
            "Epoch 5/10\n",
            "\u001b[1m1/1\u001b[0m \u001b[32m━━━━━━━━━━━━━━━━━━━━\u001b[0m\u001b[37m\u001b[0m \u001b[1m0s\u001b[0m 58ms/step - accuracy: 0.5000 - loss: 1.1208 - val_accuracy: 0.0000e+00 - val_loss: 1.8629\n",
            "Epoch 6/10\n",
            "\u001b[1m1/1\u001b[0m \u001b[32m━━━━━━━━━━━━━━━━━━━━\u001b[0m\u001b[37m\u001b[0m \u001b[1m0s\u001b[0m 57ms/step - accuracy: 0.5000 - loss: 1.1140 - val_accuracy: 0.0000e+00 - val_loss: 1.8796\n",
            "Epoch 7/10\n",
            "\u001b[1m1/1\u001b[0m \u001b[32m━━━━━━━━━━━━━━━━━━━━\u001b[0m\u001b[37m\u001b[0m \u001b[1m0s\u001b[0m 57ms/step - accuracy: 0.5000 - loss: 1.1071 - val_accuracy: 0.0000e+00 - val_loss: 1.8967\n",
            "Epoch 8/10\n",
            "\u001b[1m1/1\u001b[0m \u001b[32m━━━━━━━━━━━━━━━━━━━━\u001b[0m\u001b[37m\u001b[0m \u001b[1m0s\u001b[0m 56ms/step - accuracy: 0.5000 - loss: 1.1002 - val_accuracy: 0.0000e+00 - val_loss: 1.9141\n",
            "Epoch 9/10\n",
            "\u001b[1m1/1\u001b[0m \u001b[32m━━━━━━━━━━━━━━━━━━━━\u001b[0m\u001b[37m\u001b[0m \u001b[1m0s\u001b[0m 57ms/step - accuracy: 0.5000 - loss: 1.0933 - val_accuracy: 0.0000e+00 - val_loss: 1.9316\n",
            "Epoch 10/10\n",
            "\u001b[1m1/1\u001b[0m \u001b[32m━━━━━━━━━━━━━━━━━━━━\u001b[0m\u001b[37m\u001b[0m \u001b[1m0s\u001b[0m 141ms/step - accuracy: 0.5000 - loss: 1.0863 - val_accuracy: 0.0000e+00 - val_loss: 1.9493\n",
            "1/1 - 0s - 24ms/step - accuracy: 0.0000e+00 - loss: 1.9493\n",
            "\n",
            "Test accuracy: 0.0\n"
          ]
        }
      ]
    },
    {
      "cell_type": "code",
      "source": [
        "new_sequences = tokenizer.texts_to_sequences(new_product[\"description\"])\n",
        "new_padded = pad_sequences(new_sequences, maxlen=10, padding='post')\n",
        "new_price = np.array([new_product[\"prix\"][0] / df[\"prix\"].max()]).reshape(-1, 1)\n",
        "new_input = np.hstack((new_padded, new_price))\n",
        "\n",
        "prediction = model.predict(new_input)\n",
        "predicted_category = categories[np.argmax(prediction)]\n",
        "print(\"Catégorie prédite :\", predicted_category)"
      ],
      "metadata": {
        "colab": {
          "base_uri": "https://localhost:8080/"
        },
        "collapsed": true,
        "id": "g-L4WqiRFZl6",
        "outputId": "7ca6e9ba-ab84-4d2c-bbd3-aa9b10f88d6c"
      },
      "execution_count": 26,
      "outputs": [
        {
          "output_type": "stream",
          "name": "stdout",
          "text": [
            "\u001b[1m1/1\u001b[0m \u001b[32m━━━━━━━━━━━━━━━━━━━━\u001b[0m\u001b[37m\u001b[0m \u001b[1m0s\u001b[0m 24ms/step\n",
            "Catégorie prédite : Livres\n"
          ]
        }
      ]
    },
    {
      "cell_type": "code",
      "source": [],
      "metadata": {
        "id": "qGp0KVGyPIeP"
      },
      "execution_count": null,
      "outputs": []
    },
    {
      "cell_type": "code",
      "source": [],
      "metadata": {
        "id": "REaikxxGGbRa"
      },
      "execution_count": 4,
      "outputs": []
    }
  ]
}